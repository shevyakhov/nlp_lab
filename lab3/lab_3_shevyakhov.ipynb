{
  "cells": [
    {
      "cell_type": "markdown",
      "metadata": {
        "id": "k7SuX7w45n1Q"
      },
      "source": [
        "Текст 1 лабораторной"
      ]
    },
    {
      "cell_type": "code",
      "execution_count": 1,
      "metadata": {
        "id": "6FYEsntk4AJ4"
      },
      "outputs": [],
      "source": [
        "import nltk\n",
        "from nltk.tokenize import word_tokenize,sent_tokenize"
      ]
    },
    {
      "cell_type": "code",
      "execution_count": 2,
      "metadata": {
        "colab": {
          "base_uri": "https://localhost:8080/"
        },
        "id": "DpykrAGm4GCP",
        "outputId": "7545359b-aabe-46d1-a59a-fa432ec5e145",
        "scrolled": true
      },
      "outputs": [
        {
          "output_type": "stream",
          "name": "stderr",
          "text": [
            "[nltk_data] Downloading package punkt to /root/nltk_data...\n",
            "[nltk_data]   Unzipping tokenizers/punkt.zip.\n"
          ]
        },
        {
          "output_type": "execute_result",
          "data": {
            "text/plain": [
              "True"
            ]
          },
          "metadata": {},
          "execution_count": 2
        }
      ],
      "source": [
        "nltk.download('punkt')"
      ]
    },
    {
      "cell_type": "code",
      "execution_count": 11,
      "metadata": {
        "id": "nSUZbgxr5n1X"
      },
      "outputs": [],
      "source": [
        "text = \"Студенты колледжей и университетов, которые регулярно посещают занятия и хорошо спят, с большей вероятностью получат хорошие оценки в конце семестра. Присутствие на парах важно для налаживания взаимодействия между студентом и преподавателем и прохождения ключевых моментов учебного курса, а хороший сон необходим для оптимизации процессов запоминания и обучения. Однако в большинстве учебных заведений первые пары начинаются рано утром, из-за чего студенты нередко опаздывают или вовсе пропускают их, стремясь заполучить лишние часы для сна. Учитывая, что подростки и молодые люди часто ложатся спать поздно (причины не только социальные, но и биологические), первые пары вынуждают их недосыпать, а это не может не сказаться на общей успеваемости. Возможно, составителям расписаний занятий в вузах следует отказаться от утренних пар и перенести начало занятий на более позднее время, считают исследователи. Это позволит обучающимся получать достаточное количество часов сна и без дополнительных усилий повысить собственную успеваемость.\""
      ]
    },
    {
      "cell_type": "code",
      "source": [
        "lab_1_res = [\"студент колледж\",\n",
        "\"колледж университет\",\n",
        "\"университет который\",\n",
        "\"конец семестр\",\n",
        "\"студент преподаватель\",\n",
        "\"учебный курс\",\n",
        "\"курс хороший\",\n",
        "\"хороший сон\",\n",
        "\"сон необходимый\",\n",
        "\"запоминание обучение\",\n",
        "\"обучение большинство\",\n",
        "\"сон подросток\",\n",
        "\"социальный биологический\",\n",
        "\"биологический первый\",\n",
        "\"расписание занятие\",\n",
        "\"вуз утренний\",\n",
        "\"начало занятие\",\n",
        "\"сон дополнительный\"]"
      ],
      "metadata": {
        "id": "TzvIaxFQ-7Ti"
      },
      "execution_count": 4,
      "outputs": []
    },
    {
      "cell_type": "markdown",
      "metadata": {
        "id": "tDQKCf_Z5n1Z"
      },
      "source": [
        "Текст 3 лабораторной"
      ]
    },
    {
      "cell_type": "code",
      "execution_count": 5,
      "metadata": {
        "colab": {
          "base_uri": "https://localhost:8080/"
        },
        "id": "zcLiBzGc5n1Z",
        "outputId": "a9c82623-f91f-438c-fab0-d134b7e042c6"
      },
      "outputs": [
        {
          "output_type": "stream",
          "name": "stdout",
          "text": [
            "Collecting rnnmorph\n",
            "  Downloading rnnmorph-0.4.1.tar.gz (19.7 MB)\n",
            "\u001b[2K     \u001b[90m━━━━━━━━━━━━━━━━━━━━━━━━━━━━━━━━━━━━━━━━\u001b[0m \u001b[32m19.7/19.7 MB\u001b[0m \u001b[31m37.7 MB/s\u001b[0m eta \u001b[36m0:00:00\u001b[0m\n",
            "\u001b[?25h  Preparing metadata (setup.py) ... \u001b[?25l\u001b[?25hdone\n",
            "Requirement already satisfied: numpy>=1.12.1 in /usr/local/lib/python3.10/dist-packages (from rnnmorph) (1.23.5)\n",
            "Requirement already satisfied: scipy>=0.19.0 in /usr/local/lib/python3.10/dist-packages (from rnnmorph) (1.11.3)\n",
            "Requirement already satisfied: scikit-learn>=0.18.1 in /usr/local/lib/python3.10/dist-packages (from rnnmorph) (1.2.2)\n",
            "Requirement already satisfied: keras>=2.1.4 in /usr/local/lib/python3.10/dist-packages (from rnnmorph) (2.13.1)\n",
            "Requirement already satisfied: h5py>=2.7.0 in /usr/local/lib/python3.10/dist-packages (from rnnmorph) (3.9.0)\n",
            "Collecting pymorphy2>=0.8 (from rnnmorph)\n",
            "  Downloading pymorphy2-0.9.1-py3-none-any.whl (55 kB)\n",
            "\u001b[2K     \u001b[90m━━━━━━━━━━━━━━━━━━━━━━━━━━━━━━━━━━━━━━━━\u001b[0m \u001b[32m55.5/55.5 kB\u001b[0m \u001b[31m5.7 MB/s\u001b[0m eta \u001b[36m0:00:00\u001b[0m\n",
            "\u001b[?25hCollecting russian-tagsets==0.6 (from rnnmorph)\n",
            "  Downloading russian-tagsets-0.6.tar.gz (23 kB)\n",
            "  Preparing metadata (setup.py) ... \u001b[?25l\u001b[?25hdone\n",
            "Requirement already satisfied: tqdm>=4.14.0 in /usr/local/lib/python3.10/dist-packages (from rnnmorph) (4.66.1)\n",
            "Requirement already satisfied: jsonpickle>=0.9.4 in /usr/local/lib/python3.10/dist-packages (from rnnmorph) (3.0.2)\n",
            "Requirement already satisfied: nltk>=3.2.5 in /usr/local/lib/python3.10/dist-packages (from rnnmorph) (3.8.1)\n",
            "Requirement already satisfied: click in /usr/local/lib/python3.10/dist-packages (from nltk>=3.2.5->rnnmorph) (8.1.7)\n",
            "Requirement already satisfied: joblib in /usr/local/lib/python3.10/dist-packages (from nltk>=3.2.5->rnnmorph) (1.3.2)\n",
            "Requirement already satisfied: regex>=2021.8.3 in /usr/local/lib/python3.10/dist-packages (from nltk>=3.2.5->rnnmorph) (2023.6.3)\n",
            "Collecting dawg-python>=0.7.1 (from pymorphy2>=0.8->rnnmorph)\n",
            "  Downloading DAWG_Python-0.7.2-py2.py3-none-any.whl (11 kB)\n",
            "Collecting pymorphy2-dicts-ru<3.0,>=2.4 (from pymorphy2>=0.8->rnnmorph)\n",
            "  Downloading pymorphy2_dicts_ru-2.4.417127.4579844-py2.py3-none-any.whl (8.2 MB)\n",
            "\u001b[2K     \u001b[90m━━━━━━━━━━━━━━━━━━━━━━━━━━━━━━━━━━━━━━━━\u001b[0m \u001b[32m8.2/8.2 MB\u001b[0m \u001b[31m45.5 MB/s\u001b[0m eta \u001b[36m0:00:00\u001b[0m\n",
            "\u001b[?25hCollecting docopt>=0.6 (from pymorphy2>=0.8->rnnmorph)\n",
            "  Downloading docopt-0.6.2.tar.gz (25 kB)\n",
            "  Preparing metadata (setup.py) ... \u001b[?25l\u001b[?25hdone\n",
            "Requirement already satisfied: threadpoolctl>=2.0.0 in /usr/local/lib/python3.10/dist-packages (from scikit-learn>=0.18.1->rnnmorph) (3.2.0)\n",
            "Building wheels for collected packages: rnnmorph, russian-tagsets, docopt\n",
            "  Building wheel for rnnmorph (setup.py) ... \u001b[?25l\u001b[?25hdone\n",
            "  Created wheel for rnnmorph: filename=rnnmorph-0.4.1-py3-none-any.whl size=19746349 sha256=5dcdc0ad9fdc4d32fcb3193de6eb53fe5a509ce1609b036d0ad724696a799f81\n",
            "  Stored in directory: /root/.cache/pip/wheels/3d/da/6d/75c269badb3cdb41785bb5e878ce0c044ec164e4587972dc9a\n",
            "  Building wheel for russian-tagsets (setup.py) ... \u001b[?25l\u001b[?25hdone\n",
            "  Created wheel for russian-tagsets: filename=russian_tagsets-0.6-py3-none-any.whl size=24620 sha256=4b45ddeaa1a4bc79fb10f7975a5ddd6c439868117ecf424f761b0f0cbbf1577e\n",
            "  Stored in directory: /root/.cache/pip/wheels/d1/f9/53/8609e08636dbe4bad244c50e3a16ab4d824928e7342059784d\n",
            "  Building wheel for docopt (setup.py) ... \u001b[?25l\u001b[?25hdone\n",
            "  Created wheel for docopt: filename=docopt-0.6.2-py2.py3-none-any.whl size=13705 sha256=0d940eca45aae676648bc68f554afed943f2e42ffbbb3fb0a43c200e431838b8\n",
            "  Stored in directory: /root/.cache/pip/wheels/fc/ab/d4/5da2067ac95b36618c629a5f93f809425700506f72c9732fac\n",
            "Successfully built rnnmorph russian-tagsets docopt\n",
            "Installing collected packages: russian-tagsets, pymorphy2-dicts-ru, docopt, dawg-python, pymorphy2, rnnmorph\n",
            "Successfully installed dawg-python-0.7.2 docopt-0.6.2 pymorphy2-0.9.1 pymorphy2-dicts-ru-2.4.417127.4579844 rnnmorph-0.4.1 russian-tagsets-0.6\n"
          ]
        }
      ],
      "source": [
        "!pip install rnnmorph"
      ]
    },
    {
      "cell_type": "code",
      "execution_count": 6,
      "metadata": {
        "id": "jPIghvsQ5n1a"
      },
      "outputs": [],
      "source": [
        "from rnnmorph.predictor import RNNMorphPredictor"
      ]
    },
    {
      "cell_type": "code",
      "execution_count": 7,
      "metadata": {
        "id": "2bPZBVNv5n1a"
      },
      "outputs": [],
      "source": [
        "predictor = RNNMorphPredictor(language=\"ru\")"
      ]
    },
    {
      "cell_type": "code",
      "execution_count": 8,
      "metadata": {
        "colab": {
          "base_uri": "https://localhost:8080/"
        },
        "id": "HLy3N0Od5n1b",
        "outputId": "545fb549-1f88-4c47-b6e9-4aaaee70dede"
      },
      "outputs": [
        {
          "output_type": "stream",
          "name": "stdout",
          "text": [
            "1/1 [==============================] - 3s 3s/step\n"
          ]
        }
      ],
      "source": [
        "tokens = word_tokenize(text)\n",
        "res = predictor.predict(tokens)\n",
        "\n",
        "def extract_variables(word):\n",
        "    variables = {\n",
        "        'Case': None,\n",
        "        'Degree': None,\n",
        "        'Gender': None,\n",
        "        'Number': None\n",
        "    }\n",
        "    key_value_pairs = word.split('|')\n",
        "    for pair in key_value_pairs:\n",
        "      key, value = pair.split('=')\n",
        "      variables[key] = value\n",
        "    return variables"
      ]
    },
    {
      "cell_type": "code",
      "source": [
        "lemmas = []\n",
        "parts = ['NOUN','ADJ']\n",
        "\n",
        "for token in res:\n",
        "  nform = token.normal_form\n",
        "  if token.pos in parts:\n",
        "      lemmas.append((nform,token.tag))\n",
        "\n",
        "matching_pairs = []\n",
        "for i in range(len(lemmas) - 1):\n",
        "  word1 = lemmas[i][0]\n",
        "  tag1 = lemmas[i][1]\n",
        "\n",
        "  word2 = lemmas[i + 1][0]\n",
        "  tag2 = lemmas[i+1][1]\n",
        "\n",
        "  t1 = extract_variables(tag1)\n",
        "  t2 = extract_variables(tag2)\n",
        "\n",
        "  if (t1['Case'] == t2['Case'] and\n",
        "      t1['Number'] == t2['Number'] and\n",
        "      t1['Gender'] == t2['Gender']):\n",
        "      matching_pairs.append((word1, word2))\n",
        "\n",
        "for pair in matching_pairs:\n",
        "      print(\" \".join(pair))\n"
      ],
      "metadata": {
        "colab": {
          "base_uri": "https://localhost:8080/"
        },
        "id": "caWyftyC-gSH",
        "outputId": "ebd3567f-57f6-46e7-e84d-98ec2a5ee47f"
      },
      "execution_count": 12,
      "outputs": [
        {
          "output_type": "stream",
          "name": "stdout",
          "text": [
            "колледж университет\n",
            "больший вероятность\n",
            "налаживание взаимодействие\n",
            "студент преподаватель\n",
            "учебный курс\n",
            "хороший сон\n",
            "запоминание обучение\n",
            "социальный биологический\n",
            "биологический первый\n",
            "общий успеваемость\n",
            "расписание занятие\n",
            "поздний время\n",
            "достаточный количество\n",
            "собственный успеваемость\n"
          ]
        }
      ]
    },
    {
      "cell_type": "code",
      "source": [
        "for line in lab_1_res:\n",
        "  print(line)"
      ],
      "metadata": {
        "colab": {
          "base_uri": "https://localhost:8080/"
        },
        "id": "QxN5lgxWleSx",
        "outputId": "42d55768-070c-4848-f8b5-d6f61f4d8d7c"
      },
      "execution_count": 13,
      "outputs": [
        {
          "output_type": "stream",
          "name": "stdout",
          "text": [
            "студент колледж\n",
            "колледж университет\n",
            "университет который\n",
            "конец семестр\n",
            "студент преподаватель\n",
            "учебный курс\n",
            "курс хороший\n",
            "хороший сон\n",
            "сон необходимый\n",
            "запоминание обучение\n",
            "обучение большинство\n",
            "сон подросток\n",
            "социальный биологический\n",
            "биологический первый\n",
            "расписание занятие\n",
            "вуз утренний\n",
            "начало занятие\n",
            "сон дополнительный\n"
          ]
        }
      ]
    },
    {
      "cell_type": "markdown",
      "source": [
        "Что мы видим? Лишь некоторые пары совпадают. На самом деле некоторые данные он не смог определить, например, пол, у некоторых слов, следовательно и результат будет разниться. Стоит отметить, что обработка токенов, также повлияла на результат"
      ],
      "metadata": {
        "id": "8I2m2ljXoZq_"
      }
    }
  ],
  "metadata": {
    "colab": {
      "provenance": []
    },
    "kernelspec": {
      "display_name": "Python 3 (ipykernel)",
      "language": "python",
      "name": "python3"
    },
    "language_info": {
      "codemirror_mode": {
        "name": "ipython",
        "version": 3
      },
      "file_extension": ".py",
      "mimetype": "text/x-python",
      "name": "python",
      "nbconvert_exporter": "python",
      "pygments_lexer": "ipython3",
      "version": "3.11.4"
    }
  },
  "nbformat": 4,
  "nbformat_minor": 0
}